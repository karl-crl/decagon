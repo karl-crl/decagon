{
 "cells": [
  {
   "cell_type": "markdown",
   "metadata": {},
   "source": [
    "# Construct synthetic graph"
   ]
  },
  {
   "cell_type": "code",
   "execution_count": 1,
   "metadata": {},
   "outputs": [
    {
     "name": "stderr",
     "output_type": "stream",
     "text": [
      "Using backend: pytorch\n"
     ]
    }
   ],
   "source": [
    "import numpy as np\n",
    "import networkx as nx\n",
    "import scipy.sparse as sp\n",
    "from itertools import combinations\n",
    "import dgl\n",
    "import torch\n",
    "from src.model import Model"
   ]
  },
  {
   "cell_type": "code",
   "execution_count": 2,
   "metadata": {},
   "outputs": [],
   "source": [
    "n_genes = 500 # дб кратно 10\n",
    "n_drugs = 400\n",
    "n_drugdrug_rel_types = 3\n",
    "gene_net = nx.planted_partition_graph(n_genes // 10, 10, 0.2, 0.05, seed=42, directed=False)"
   ]
  },
  {
   "cell_type": "code",
   "execution_count": 3,
   "metadata": {},
   "outputs": [],
   "source": [
    "gene_drug_adj = sp.csr_matrix(\n",
    "            (10 * np.random.randn(n_genes, n_drugs) > 15).astype(int))\n",
    "drug_gene_adj = gene_drug_adj.transpose(copy=True)\n",
    "gene_adj = nx.adjacency_matrix(gene_net)"
   ]
  },
  {
   "cell_type": "code",
   "execution_count": 4,
   "metadata": {},
   "outputs": [],
   "source": [
    "drug_drug_adj_list = []\n",
    "tmp = np.dot(drug_gene_adj, gene_drug_adj)\n",
    "\n",
    "for i in range(n_drugdrug_rel_types):\n",
    "    mat = np.zeros((n_drugs, n_drugs))\n",
    "    for d1, d2 in combinations(list(range(n_drugs)), 2):\n",
    "        if tmp[d1, d2] == i + 4:\n",
    "            mat[d1, d2] = mat[d2, d1] = 1.\n",
    "    drug_drug_adj_list.append(sp.csr_matrix(mat))"
   ]
  },
  {
   "cell_type": "code",
   "execution_count": 5,
   "metadata": {},
   "outputs": [],
   "source": [
    "graph = dgl.heterograph(\n",
    "    {('protein', 'association', 'protein') : gene_adj.nonzero(),\n",
    "     ('drug', 'interaction', 'protein') : drug_gene_adj.nonzero(), \n",
    "     ('protein', 'interaction_by', 'drug') : gene_drug_adj.nonzero(), \n",
    "     ('drug', 'side_effect_0', 'drug'): drug_drug_adj_list[0].nonzero(), \n",
    "     ('drug', 'side_effect_1', 'drug'): drug_drug_adj_list[1].nonzero(), \n",
    "     ('drug', 'side_effect_2', 'drug'): drug_drug_adj_list[2].nonzero()})"
   ]
  },
  {
   "cell_type": "markdown",
   "metadata": {},
   "source": [
    "Добавим петли в граф, чтобы при пересчете эмбеддингов учесть эмбеддинги с предудыщего слоя."
   ]
  },
  {
   "cell_type": "code",
   "execution_count": 6,
   "metadata": {},
   "outputs": [],
   "source": [
    "for edge_type in ['association', 'side_effect_0', 'side_effect_1', 'side_effect_2']:\n",
    "    graph = dgl.add_self_loop(graph, edge_type)"
   ]
  },
  {
   "cell_type": "code",
   "execution_count": 7,
   "metadata": {},
   "outputs": [
    {
     "data": {
      "text/plain": [
       "Graph(num_nodes={'drug': 400, 'protein': 500},\n",
       "      num_edges={('drug', 'interaction', 'protein'): 13329, ('drug', 'side_effect_0', 'drug'): 18014, ('drug', 'side_effect_1', 'drug'): 8210, ('drug', 'side_effect_2', 'drug'): 3240, ('protein', 'association', 'protein'): 13778, ('protein', 'interaction_by', 'drug'): 13329},\n",
       "      metagraph=[('drug', 'protein', 'interaction'), ('drug', 'drug', 'side_effect_0'), ('drug', 'drug', 'side_effect_1'), ('drug', 'drug', 'side_effect_2'), ('protein', 'protein', 'association'), ('protein', 'drug', 'interaction_by')])"
      ]
     },
     "execution_count": 7,
     "metadata": {},
     "output_type": "execute_result"
    }
   ],
   "source": [
    "graph"
   ]
  },
  {
   "cell_type": "markdown",
   "metadata": {},
   "source": [
    "Добавим фичи"
   ]
  },
  {
   "cell_type": "code",
   "execution_count": 8,
   "metadata": {},
   "outputs": [],
   "source": [
    "graph.nodes['protein'].data['feature'] = torch.eye(n_genes)\n",
    "graph.nodes['drug'].data['feature'] = torch.eye(n_drugs)"
   ]
  },
  {
   "cell_type": "markdown",
   "metadata": {},
   "source": [
    "# Toy train"
   ]
  },
  {
   "cell_type": "code",
   "execution_count": 13,
   "metadata": {},
   "outputs": [],
   "source": [
    "def construct_negative_graph(graph, k, etype):\n",
    "    'etype - Tuple[str, str, str]'\n",
    "    utype, _, vtype = etype\n",
    "    src, dst = graph.edges(etype=etype)\n",
    "    neg_src = src.repeat_interleave(k)\n",
    "    neg_dst = torch.randint(0, graph.number_of_nodes(vtype), (len(src) * k,))\n",
    "    return dgl.heterograph(\n",
    "        {etype: (neg_src, neg_dst)},\n",
    "        num_nodes_dict={ntype: graph.number_of_nodes(ntype) for ntype in graph.ntypes})"
   ]
  },
  {
   "cell_type": "code",
   "execution_count": 15,
   "metadata": {},
   "outputs": [
    {
     "name": "stdout",
     "output_type": "stream",
     "text": [
      "1.000003457069397\n",
      "0.9999546408653259\n",
      "0.9997059106826782\n",
      "0.9995090961456299\n",
      "0.999215841293335\n",
      "0.9986886382102966\n",
      "0.9979740977287292\n",
      "0.9972043633460999\n",
      "0.9962499141693115\n",
      "0.9954308867454529\n"
     ]
    }
   ],
   "source": [
    "def compute_loss(pos_score, neg_score):\n",
    "    # Margin loss\n",
    "    n_edges = pos_score.shape[0]\n",
    "    return (1 - neg_score.view(n_edges, -1) + pos_score.unsqueeze(1)).clamp(min=0).mean()\n",
    "\n",
    "node2features = {'drug': graph.nodes['drug'].data['feature'], \n",
    "                 'protein': graph.nodes['protein'].data['feature']}\n",
    "node2in_feat_dim = {'drug': n_drugs, 'protein': n_genes}\n",
    "rel2nodes = {'interaction': ['drug', 'protein'], \n",
    "             'interaction_by': ['protein', 'drug'],\n",
    "             'association': ['protein', 'protein'],\n",
    "             'side_effect_0': ['drug', 'drug'], \n",
    "             'side_effect_1': ['drug', 'drug'], \n",
    "             'side_effect_2': ['drug', 'drug']}\n",
    "model = Model(node2in_feat_dim=node2in_feat_dim, hidden_dim=64, embed_dim=8, rel2nodes=rel2nodes, bias=0.0, dropout=0.0)\n",
    "\n",
    "opt = torch.optim.Adam(model.parameters())\n",
    "\n",
    "for epoch in range(10):\n",
    "    negative_graph = construct_negative_graph(graph, 1, ('drug', 'side_effect_0', 'drug'))\n",
    "    pos_score, neg_score = model(graph, negative_graph, node2features, 'side_effect_0')\n",
    "    loss = compute_loss(pos_score, neg_score)\n",
    "    opt.zero_grad()\n",
    "    loss.backward()\n",
    "    opt.step()\n",
    "    print(loss.item())\n"
   ]
  },
  {
   "cell_type": "code",
   "execution_count": null,
   "metadata": {},
   "outputs": [],
   "source": []
  },
  {
   "cell_type": "code",
   "execution_count": null,
   "metadata": {},
   "outputs": [],
   "source": []
  }
 ],
 "metadata": {
  "kernelspec": {
   "display_name": "Python [conda env:decagon] *",
   "language": "python",
   "name": "conda-env-decagon-py"
  },
  "language_info": {
   "codemirror_mode": {
    "name": "ipython",
    "version": 3
   },
   "file_extension": ".py",
   "mimetype": "text/x-python",
   "name": "python",
   "nbconvert_exporter": "python",
   "pygments_lexer": "ipython3",
   "version": "3.8.5"
  }
 },
 "nbformat": 4,
 "nbformat_minor": 4
}
