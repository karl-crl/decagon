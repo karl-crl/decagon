{
 "cells": [
  {
   "cell_type": "markdown",
   "metadata": {},
   "source": [
    "# Construct synthetic graph"
   ]
  },
  {
   "cell_type": "code",
   "execution_count": 1,
   "metadata": {},
   "outputs": [
    {
     "name": "stderr",
     "output_type": "stream",
     "text": [
      "Using backend: pytorch\n"
     ]
    }
   ],
   "source": [
    "import numpy as np\n",
    "import networkx as nx\n",
    "import scipy.sparse as sp\n",
    "from itertools import combinations\n",
    "import dgl\n",
    "import torch\n",
    "from src.model import Model"
   ]
  },
  {
   "cell_type": "code",
   "execution_count": 2,
   "metadata": {},
   "outputs": [],
   "source": [
    "n_genes = 500 # дб кратно 10\n",
    "n_drugs = 400\n",
    "n_drugdrug_rel_types = 3\n",
    "gene_net = nx.planted_partition_graph(n_genes // 10, 10, 0.2, 0.05, seed=42, directed=False)"
   ]
  },
  {
   "cell_type": "code",
   "execution_count": 3,
   "metadata": {},
   "outputs": [],
   "source": [
    "gene_drug_adj = sp.csr_matrix(\n",
    "            (10 * np.random.randn(n_genes, n_drugs) > 15).astype(int))\n",
    "drug_gene_adj = gene_drug_adj.transpose(copy=True)\n",
    "gene_adj = nx.adjacency_matrix(gene_net)"
   ]
  },
  {
   "cell_type": "code",
   "execution_count": 4,
   "metadata": {},
   "outputs": [],
   "source": [
    "drug_drug_adj_list = []\n",
    "tmp = np.dot(drug_gene_adj, gene_drug_adj)\n",
    "\n",
    "for i in range(n_drugdrug_rel_types):\n",
    "    mat = np.zeros((n_drugs, n_drugs))\n",
    "    for d1, d2 in combinations(list(range(n_drugs)), 2):\n",
    "        if tmp[d1, d2] == i + 4:\n",
    "            mat[d1, d2] = mat[d2, d1] = 1.\n",
    "    drug_drug_adj_list.append(sp.csr_matrix(mat))"
   ]
  },
  {
   "cell_type": "code",
   "execution_count": 5,
   "metadata": {},
   "outputs": [],
   "source": [
    "graph = dgl.heterograph(\n",
    "    {('protein', 'association', 'protein') : gene_adj.nonzero(),\n",
    "     ('drug', 'interaction', 'protein') : drug_gene_adj.nonzero(), \n",
    "     ('protein', 'interaction_by', 'drug') : gene_drug_adj.nonzero(), \n",
    "     ('drug', 'side_effect_0', 'drug'): drug_drug_adj_list[0].nonzero(), \n",
    "     ('drug', 'side_effect_1', 'drug'): drug_drug_adj_list[1].nonzero(), \n",
    "     ('drug', 'side_effect_2', 'drug'): drug_drug_adj_list[2].nonzero()})"
   ]
  },
  {
   "cell_type": "markdown",
   "metadata": {},
   "source": [
    "Добавим петли в граф, чтобы при пересчете эмбеддингов учесть эмбеддинги с предудыщего слоя."
   ]
  },
  {
   "cell_type": "code",
   "execution_count": 6,
   "metadata": {},
   "outputs": [],
   "source": [
    "for edge_type in ['association', 'side_effect_0', 'side_effect_1', 'side_effect_2']:\n",
    "    graph = dgl.add_self_loop(graph, edge_type)"
   ]
  },
  {
   "cell_type": "code",
   "execution_count": 7,
   "metadata": {},
   "outputs": [
    {
     "data": {
      "text/plain": [
       "Graph(num_nodes={'drug': 400, 'protein': 500},\n",
       "      num_edges={('drug', 'interaction', 'protein'): 13274, ('drug', 'side_effect_0', 'drug'): 17854, ('drug', 'side_effect_1', 'drug'): 8086, ('drug', 'side_effect_2', 'drug'): 3108, ('protein', 'association', 'protein'): 13778, ('protein', 'interaction_by', 'drug'): 13274},\n",
       "      metagraph=[('drug', 'protein', 'interaction'), ('drug', 'drug', 'side_effect_0'), ('drug', 'drug', 'side_effect_1'), ('drug', 'drug', 'side_effect_2'), ('protein', 'protein', 'association'), ('protein', 'drug', 'interaction_by')])"
      ]
     },
     "execution_count": 7,
     "metadata": {},
     "output_type": "execute_result"
    }
   ],
   "source": [
    "graph"
   ]
  },
  {
   "cell_type": "markdown",
   "metadata": {},
   "source": [
    "Добавим фичи"
   ]
  },
  {
   "cell_type": "code",
   "execution_count": 8,
   "metadata": {},
   "outputs": [],
   "source": [
    "graph.nodes['protein'].data['feature'] = torch.eye(n_genes)\n",
    "graph.nodes['drug'].data['feature'] = torch.eye(n_drugs)"
   ]
  },
  {
   "cell_type": "markdown",
   "metadata": {},
   "source": [
    "# EdgesLoader"
   ]
  },
  {
   "cell_type": "code",
   "execution_count": 9,
   "metadata": {},
   "outputs": [],
   "source": [
    "sampler = dgl.dataloading.MultiLayerFullNeighborSampler(2)"
   ]
  },
  {
   "cell_type": "code",
   "execution_count": 10,
   "metadata": {},
   "outputs": [],
   "source": [
    "train_eid_dict = {'interaction': torch.arange(graph.num_edges('interaction') - 500), \n",
    "                  'interaction_by': torch.arange(graph.num_edges('interaction_by') - 500), \n",
    "                  'association': torch.arange(graph.num_edges('association') - 500), \n",
    "                  'side_effect_0': torch.arange(graph.num_edges('side_effect_0') - 500), \n",
    "                  'side_effect_1': torch.arange(graph.num_edges('side_effect_1') - 500), \n",
    "                  'side_effect_2': torch.arange(graph.num_edges('side_effect_2') - 500)}"
   ]
  },
  {
   "cell_type": "code",
   "execution_count": 11,
   "metadata": {},
   "outputs": [],
   "source": [
    "dataloader = dgl.dataloading.EdgeDataLoader(\n",
    "    graph, train_eid_dict, sampler,\n",
    "    negative_sampler=dgl.dataloading.negative_sampler.Uniform(5),\n",
    "    batch_size=1024,\n",
    "    shuffle=True,\n",
    "    drop_last=False,\n",
    "    num_workers=4)"
   ]
  },
  {
   "cell_type": "markdown",
   "metadata": {},
   "source": [
    "# Toy train"
   ]
  },
  {
   "cell_type": "code",
   "execution_count": 12,
   "metadata": {},
   "outputs": [],
   "source": [
    "def compute_loss(pos_score, neg_score):\n",
    "    # Margin loss\n",
    "    score = 0.\n",
    "    for etype in pos_score.keys():\n",
    "        if not len(pos_score[etype]):\n",
    "            continue\n",
    "        pos, neg = None, None\n",
    "\n",
    "        if pos_score[etype].shape == torch.Size([1]):\n",
    "            pos = pos_score[etype].unsqueeze(0)\n",
    "            neg = neg_score[etype].unsqueeze(0)\n",
    "        else:\n",
    "            pos = pos_score[etype].squeeze()\n",
    "            neg = neg_score[etype].squeeze()\n",
    "        n_edges = pos_score[etype].shape[0]\n",
    "        score += (1 - neg.view(n_edges, -1) + pos.unsqueeze(1)).clamp(min=0).mean()\n",
    "    return score / len(pos_score)"
   ]
  },
  {
   "cell_type": "code",
   "execution_count": 13,
   "metadata": {},
   "outputs": [],
   "source": [
    "node2features = {'drug': graph.nodes['drug'].data['feature'], \n",
    "                 'protein': graph.nodes['protein'].data['feature']}\n",
    "node2in_feat_dim = {'drug': n_drugs, 'protein': n_genes}\n",
    "rel2nodes = {'interaction': ['drug', 'protein'], \n",
    "             'interaction_by': ['protein', 'drug'],\n",
    "             'association': ['protein', 'protein'],\n",
    "             'side_effect_0': ['drug', 'drug'], \n",
    "             'side_effect_1': ['drug', 'drug'], \n",
    "             'side_effect_2': ['drug', 'drug']}\n",
    "model = Model(node2in_feat_dim=node2in_feat_dim, hidden_dim=64, embed_dim=8, rel2nodes=rel2nodes, bias=False, dropout=0.0)\n",
    "opt = torch.optim.Adam(model.parameters())"
   ]
  },
  {
   "cell_type": "code",
   "execution_count": 14,
   "metadata": {},
   "outputs": [
    {
     "name": "stdout",
     "output_type": "stream",
     "text": [
      "1.0000889301300049\n",
      "1.0002793073654175\n",
      "0.9996232986450195\n",
      "0.9994733929634094\n",
      "1.0001286268234253\n",
      "0.998995304107666\n",
      "0.9982969164848328\n",
      "0.998706042766571\n",
      "1.0000535249710083\n",
      "0.9988147616386414\n",
      "0.9975137710571289\n",
      "0.9984338283538818\n",
      "0.9979334473609924\n",
      "0.9984638094902039\n",
      "0.9977039694786072\n",
      "0.9973219037055969\n",
      "0.9963573813438416\n",
      "0.996618926525116\n",
      "0.9968838691711426\n",
      "0.995826780796051\n",
      "0.9964146614074707\n",
      "0.9968047738075256\n",
      "0.995299756526947\n",
      "0.9951732158660889\n",
      "0.9977521896362305\n",
      "0.9947855472564697\n",
      "0.9966996312141418\n",
      "0.9956080913543701\n",
      "0.9952062964439392\n",
      "0.9957213401794434\n",
      "0.9926124215126038\n",
      "0.9946722984313965\n",
      "0.9928417801856995\n",
      "0.9936997890472412\n",
      "0.9921159148216248\n",
      "0.9917944073677063\n",
      "0.9909383654594421\n",
      "0.993380069732666\n",
      "0.9903073906898499\n",
      "0.9883115291595459\n",
      "0.9937024116516113\n",
      "0.9855095744132996\n",
      "0.9908328056335449\n",
      "0.988882839679718\n",
      "0.9896569848060608\n",
      "0.9883001446723938\n",
      "0.9841164946556091\n",
      "0.9855642318725586\n",
      "0.9838072657585144\n",
      "0.978958785533905\n",
      "0.9803254008293152\n",
      "0.9768226742744446\n",
      "0.9817459583282471\n",
      "0.9786412119865417\n",
      "0.9806068539619446\n",
      "0.977514922618866\n",
      "0.971031665802002\n",
      "0.9785656929016113\n",
      "0.9791173338890076\n",
      "0.971346914768219\n",
      "0.9825799465179443\n",
      "0.9746255278587341\n",
      "0.9681952595710754\n",
      "0.9720396399497986\n",
      "0.9555106163024902\n"
     ]
    }
   ],
   "source": [
    "for input_nodes, positive_graph, negative_graph, blocks in dataloader:\n",
    "    input_features = blocks[0].srcdata['feature']\n",
    "    pos_score, neg_score = model(positive_graph, negative_graph, blocks, input_features)\n",
    "    loss = compute_loss(pos_score, neg_score)\n",
    "    opt.zero_grad()\n",
    "    loss.backward()\n",
    "    opt.step()\n",
    "    print(loss.item())"
   ]
  }
 ],
 "metadata": {
  "kernelspec": {
   "display_name": "Python [conda env:decagon] *",
   "language": "python",
   "name": "conda-env-decagon-py"
  },
  "language_info": {
   "codemirror_mode": {
    "name": "ipython",
    "version": 3
   },
   "file_extension": ".py",
   "mimetype": "text/x-python",
   "name": "python",
   "nbconvert_exporter": "python",
   "pygments_lexer": "ipython3",
   "version": "3.8.5"
  }
 },
 "nbformat": 4,
 "nbformat_minor": 4
}
